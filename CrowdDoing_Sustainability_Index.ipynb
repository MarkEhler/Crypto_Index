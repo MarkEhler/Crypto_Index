{
 "cells": [
  {
   "cell_type": "markdown",
   "metadata": {},
   "source": [
    "# Sustainability Index\n",
    "Creating an MVP index for crypto's which value sustainability.  Uses Coin Market Cap API and collects historic data for the category of cryptos to be fed into an index model.\n",
    "<ul>\n",
    "    <li> Decred @ DCR </li>\n",
    "    <li> Aidcoin @ AID</li>\n",
    "    <li> Ecobit @ ECOB</li>\n",
    "    <li> Faircoin @ FAIR</li>\n",
    "    </ul>"
   ]
  },
  {
   "cell_type": "code",
   "execution_count": 30,
   "metadata": {},
   "outputs": [],
   "source": [
    "from requests import Request, Session\n",
    "from requests.exceptions import ConnectionError, Timeout, TooManyRedirects\n",
    "import json\n",
    "%store -r\n",
    "\n",
    "url = 'https://pro-api.coinmarketcap.com/v1/cryptocurrency/listings/latest'\n",
    "parameters = {\n",
    "  'start':'1',\n",
    "  'limit':'5000',\n",
    "  'convert':'USD'\n",
    "}\n",
    "headers = {\n",
    "  'Accepts': 'application/json',\n",
    "  'X-CMC_PRO_API_KEY': api_keys['coin_market_cap'][0],\n",
    "}\n",
    "\n",
    "session = Session()\n",
    "session.headers.update(headers)\n",
    "\n",
    "try:\n",
    "    response = session.get(url, params=parameters)\n",
    "    data = json.loads(response.text)\n",
    "except (ConnectionError, Timeout, TooManyRedirects) as e:\n",
    "    print(e)"
   ]
  },
  {
   "cell_type": "code",
   "execution_count": 31,
   "metadata": {},
   "outputs": [
    {
     "data": {
      "text/plain": [
       "dict_keys(['status', 'data'])"
      ]
     },
     "execution_count": 31,
     "metadata": {},
     "output_type": "execute_result"
    }
   ],
   "source": [
    "data.keys()"
   ]
  },
  {
   "cell_type": "code",
   "execution_count": 32,
   "metadata": {},
   "outputs": [
    {
     "data": {
      "text/plain": [
       "{'timestamp': '2019-10-09T22:05:33.241Z',\n",
       " 'error_code': 0,\n",
       " 'error_message': None,\n",
       " 'elapsed': 207,\n",
       " 'credit_count': 12,\n",
       " 'notice': None}"
      ]
     },
     "execution_count": 32,
     "metadata": {},
     "output_type": "execute_result"
    }
   ],
   "source": [
    "data['status']"
   ]
  },
  {
   "cell_type": "code",
   "execution_count": 33,
   "metadata": {},
   "outputs": [
    {
     "data": {
      "text/plain": [
       "{'id': 1,\n",
       " 'name': 'Bitcoin',\n",
       " 'symbol': 'BTC',\n",
       " 'slug': 'bitcoin',\n",
       " 'num_market_pairs': 7944,\n",
       " 'date_added': '2013-04-28T00:00:00.000Z',\n",
       " 'tags': ['mineable'],\n",
       " 'max_supply': 21000000,\n",
       " 'circulating_supply': 17983125,\n",
       " 'total_supply': 17983125,\n",
       " 'platform': None,\n",
       " 'cmc_rank': 1,\n",
       " 'last_updated': '2019-10-09T22:04:34.000Z',\n",
       " 'quote': {'USD': {'price': 8577.3553611,\n",
       "   'volume_24h': 19094940740.7597,\n",
       "   'percent_change_1h': -0.151943,\n",
       "   'percent_change_24h': 4.45305,\n",
       "   'percent_change_7d': 3.12005,\n",
       "   'market_cap': 154247653628.08145,\n",
       "   'last_updated': '2019-10-09T22:04:34.000Z'}}}"
      ]
     },
     "execution_count": 33,
     "metadata": {},
     "output_type": "execute_result"
    }
   ],
   "source": [
    "first_call = data['data'][0]\n",
    "first_call"
   ]
  },
  {
   "cell_type": "code",
   "execution_count": 34,
   "metadata": {},
   "outputs": [],
   "source": [
    "name = data['data'][0]['name']\n",
    "cap = data['data'][0]['quote']['USD']['market_cap']\n",
    "volume = data['data'][0]['quote']['USD']['volume_24h']\n",
    "percent_change_1h = data['data'][0]['quote']['USD']['percent_change_1h']\n",
    "percent_change_24h = data['data'][0]['quote']['USD']['percent_change_24h']\n",
    "percent_change_7d = data['data'][0]['quote']['USD']['percent_change_7d']"
   ]
  },
  {
   "cell_type": "markdown",
   "metadata": {},
   "source": [
    "Features to scrape: <br>\n",
    "Date\tOpen*\tHigh\tLow\tClose**\tVolume\tMarket Cap\t"
   ]
  },
  {
   "cell_type": "code",
   "execution_count": 17,
   "metadata": {},
   "outputs": [],
   "source": []
  },
  {
   "cell_type": "code",
   "execution_count": null,
   "metadata": {},
   "outputs": [],
   "source": [
    "# final customization will be in the input feild for a config class which chooses the search values for the initial API request.\n"
   ]
  },
  {
   "cell_type": "markdown",
   "metadata": {},
   "source": [
    "Item endpoints: <br>\n",
    "\n",
    "Convenient ID-based resource endpoints like */quotes/* and */market-pairs/* allow you to bundle several IDs; for example, this allows you to get latest market quotes for a specific set of cryptocurrencies in one call."
   ]
  },
  {
   "cell_type": "code",
   "execution_count": 22,
   "metadata": {},
   "outputs": [
    {
     "name": "stdout",
     "output_type": "stream",
     "text": [
      "{'status': {'timestamp': '2019-10-09T21:40:51.460Z', 'error_code': 0, 'error_message': None, 'elapsed': 7, 'credit_count': 1, 'notice': None}, 'data': [{'id': 3785, 'name': 'AIDUS TOKEN', 'symbol': 'AID', 'slug': 'aidus-token', 'is_active': 1, 'rank': 846, 'first_historical_data': '2019-03-07T23:54:10.000Z', 'last_historical_data': '2019-10-09T21:39:12.000Z', 'platform': {'id': 1027, 'name': 'Ethereum', 'symbol': 'ETH', 'slug': 'ethereum', 'token_address': '0xd178b20c6007572bd1fd01d205cc20d32b4a6015'}}, {'id': 1168, 'name': 'Decred', 'symbol': 'DCR', 'slug': 'decred', 'is_active': 1, 'rank': 35, 'first_historical_data': '2016-02-10T19:59:29.000Z', 'last_historical_data': '2019-10-09T21:39:02.000Z', 'platform': None}, {'id': 1782, 'name': 'Ecobit', 'symbol': 'ECOB', 'slug': 'ecobit', 'is_active': 1, 'rank': 734, 'first_historical_data': '2017-07-05T03:59:21.000Z', 'last_historical_data': '2019-10-09T21:39:04.000Z', 'platform': {'id': 873, 'name': 'NEM', 'symbol': 'XEM', 'slug': 'nem', 'token_address': 'ecobit'}}, {'id': 224, 'name': 'FairCoin', 'symbol': 'FAIR', 'slug': 'faircoin', 'is_active': 1, 'rank': 1046, 'first_historical_data': '2014-03-22T14:59:12.000Z', 'last_historical_data': '2019-10-09T21:39:01.000Z', 'platform': None}]}\n"
     ]
    }
   ],
   "source": [
    "#  Exploratory Call returning a full history of the designated symbols\n",
    "\n",
    "url = 'https://pro-api.coinmarketcap.com/v1/cryptocurrency/map'\n",
    "parameters = {\n",
    "  'symbol':'DCR,AID,ECOB,FAIR'\n",
    "}\n",
    "headers = {\n",
    "  'Accepts': 'application/json',\n",
    "  'X-CMC_PRO_API_KEY': api_keys['coin_market_cap'][0],\n",
    "}\n",
    "\n",
    "session = Session()\n",
    "session.headers.update(headers)\n",
    "\n",
    "try:\n",
    "    response = session.get(url, params=parameters)\n",
    "    data = json.loads(response.text)\n",
    "    print(data)\n",
    "except (ConnectionError, Timeout, TooManyRedirects) as e:\n",
    "    print(e)"
   ]
  },
  {
   "cell_type": "code",
   "execution_count": 28,
   "metadata": {},
   "outputs": [
    {
     "name": "stdout",
     "output_type": "stream",
     "text": [
      "###\n"
     ]
    },
    {
     "data": {
      "text/plain": [
       "{'id': 3785,\n",
       " 'name': 'AIDUS TOKEN',\n",
       " 'symbol': 'AID',\n",
       " 'slug': 'aidus-token',\n",
       " 'is_active': 1,\n",
       " 'rank': 846,\n",
       " 'first_historical_data': '2019-03-07T23:54:10.000Z',\n",
       " 'last_historical_data': '2019-10-09T21:39:12.000Z',\n",
       " 'platform': {'id': 1027,\n",
       "  'name': 'Ethereum',\n",
       "  'symbol': 'ETH',\n",
       "  'slug': 'ethereum',\n",
       "  'token_address': '0xd178b20c6007572bd1fd01d205cc20d32b4a6015'}}"
      ]
     },
     "execution_count": 28,
     "metadata": {},
     "output_type": "execute_result"
    }
   ],
   "source": [
    "is_active = data['data'][0]['is_active']\n",
    "first_trade_date = data['data'][0]['first_historical_data']\n",
    "\n",
    "sample_return = data['data'][0]\n",
    "print('###')\n",
    "sample_return"
   ]
  },
  {
   "cell_type": "markdown",
   "metadata": {},
   "source": [
    "Code for fully scaled working model follows.  Nessisary to pay for premium service for access to the */historical endpoint <br>\n",
    "Documentation found ad: <br>\n",
    "https://coinmarketcap.com/api/documentation/v1/#operation/getV1ExchangeListingsLatest"
   ]
  },
  {
   "cell_type": "code",
   "execution_count": null,
   "metadata": {},
   "outputs": [],
   "source": [
    "\n",
    "url = 'https://pro-api.coinmarketcap.com/v1/cryptocurrency/listings/historical'\n",
    "parameters = {\n",
    "  'symbol':'BTC,USDT,BNB'\n",
    "}\n",
    "headers = {\n",
    "  'Accepts': 'application/json',\n",
    "  'X-CMC_PRO_API_KEY': api_keys['coin_market_cap'][0],\n",
    "}\n",
    "\n",
    "session = Session()\n",
    "session.headers.update(headers)\n",
    "\n",
    "try:\n",
    "    response = session.get(url, params=parameters)\n",
    "    data = json.loads(response.text)\n",
    "    print(data)\n",
    "except (ConnectionError, Timeout, TooManyRedirects) as e:\n",
    "    print(e)"
   ]
  },
  {
   "cell_type": "markdown",
   "metadata": {},
   "source": [
    "# Config class creation"
   ]
  },
  {
   "cell_type": "code",
   "execution_count": 73,
   "metadata": {},
   "outputs": [],
   "source": [
    "class Config(object):\n",
    "    def __init__(self,\n",
    "                category='/cryptocurrency',\n",
    "                query='/listings',\n",
    "                endpoint='/latest',\n",
    "                parameters={'symbol':'DCR,AID,ECOB,FAIR'}, #parameters are different for each query and a docstring should explain how to use this variable                api_key = api_keys['coin_market_cap'][0]):\n",
    "        self.category = category\n",
    "        self.query = query\n",
    "        self.endpoint= endpoint\n",
    "        self.parameters = parameters\n",
    "        self.api_key = api_key    "
   ]
  },
  {
   "cell_type": "markdown",
   "metadata": {},
   "source": [
    "# Init function creation"
   ]
  },
  {
   "cell_type": "code",
   "execution_count": 75,
   "metadata": {},
   "outputs": [],
   "source": [
    "def init_scrape():\n",
    "    if config.endpoint:\n",
    "        url = f'https://pro-api.coinmarketcap.com/v1/{config.category}{config.query}{config.endpoint}'\n",
    "    else:\n",
    "        url = f'https://pro-api.coinmarketcap.com/v1/{config.category}{config.query}'\n",
    "    parameters = config.parameters\n",
    "    headers = {\n",
    "      'Accepts': 'application/json',\n",
    "      'X-CMC_PRO_API_KEY': config.api_key,\n",
    "    }\n",
    "\n",
    "    session = Session()\n",
    "    session.headers.update(headers)\n",
    "\n",
    "    try:\n",
    "        response = session.get(url, params=parameters)\n",
    "        data = json.loads(response.text)\n",
    "    except (ConnectionError, Timeout, TooManyRedirects) as e:\n",
    "        print(e)\n",
    "    return data"
   ]
  },
  {
   "cell_type": "code",
   "execution_count": 81,
   "metadata": {},
   "outputs": [],
   "source": [
    "config = Config(query='/map',endpoint=False)\n",
    "data = init_scrape()"
   ]
  },
  {
   "cell_type": "code",
   "execution_count": 88,
   "metadata": {},
   "outputs": [
    {
     "name": "stdout",
     "output_type": "stream",
     "text": [
      "AIDUS TOKEN first day of trading : 2019-03-07T23:54:10.000Z\n",
      "Decred first day of trading : 2016-02-10T19:59:29.000Z\n",
      "Ecobit first day of trading : 2017-07-05T03:59:21.000Z\n",
      "FairCoin first day of trading : 2014-03-22T14:59:12.000Z\n"
     ]
    }
   ],
   "source": [
    "for idx in range(len(data['data'])):\n",
    "    print(data['data'][idx]['name'], 'first day of trading', ':', data['data'][idx]['first_historical_data'])"
   ]
  },
  {
   "cell_type": "code",
   "execution_count": 89,
   "metadata": {},
   "outputs": [],
   "source": [
    "# Summary\n",
    "It would be prohibitivly expensive to scrape the data using the given API.  A possible alternative would be to scrape all possible data using historical data given for individual currencies at an address similar to https://coinmarketcap.com/currencies/bitcoin/historical-data/?start=20130428&end=20191010\n",
    "    this could be done in as few scrapes as there are currencies to collect and the database could be updated with free '/latest' listings"
   ]
  },
  {
   "cell_type": "code",
   "execution_count": null,
   "metadata": {},
   "outputs": [],
   "source": []
  }
 ],
 "metadata": {
  "kernelspec": {
   "display_name": "Python 3",
   "language": "python",
   "name": "python3"
  },
  "language_info": {
   "codemirror_mode": {
    "name": "ipython",
    "version": 3
   },
   "file_extension": ".py",
   "mimetype": "text/x-python",
   "name": "python",
   "nbconvert_exporter": "python",
   "pygments_lexer": "ipython3",
   "version": "3.6.7"
  }
 },
 "nbformat": 4,
 "nbformat_minor": 2
}
