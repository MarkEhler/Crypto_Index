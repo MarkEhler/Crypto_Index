{
 "cells": [
  {
   "cell_type": "markdown",
   "metadata": {},
   "source": [
    "effectively next steps are\n",
    "(merging prices for all coins, sorting by date, calculating the average price for high,low, open, close and then plotting them."
   ]
  },
  {
   "cell_type": "code",
   "execution_count": 2,
   "metadata": {},
   "outputs": [
    {
     "data": {
      "text/plain": [
       "'C:\\\\Users\\\\Mark\\\\Documents\\\\DataSci\\\\Module 5\\\\Crypto'"
      ]
     },
     "execution_count": 2,
     "metadata": {},
     "output_type": "execute_result"
    }
   ],
   "source": [
    "import pandas as pd\n",
    "import os\n",
    "os.getcwd()"
   ]
  },
  {
   "cell_type": "code",
   "execution_count": 29,
   "metadata": {},
   "outputs": [],
   "source": [
    "df = pd.read_csv(os.getcwd()+'\\\\Crypto_index_four\\\\faircoin.csv')"
   ]
  },
  {
   "cell_type": "code",
   "execution_count": 30,
   "metadata": {},
   "outputs": [
    {
     "data": {
      "text/html": [
       "<div>\n",
       "<style scoped>\n",
       "    .dataframe tbody tr th:only-of-type {\n",
       "        vertical-align: middle;\n",
       "    }\n",
       "\n",
       "    .dataframe tbody tr th {\n",
       "        vertical-align: top;\n",
       "    }\n",
       "\n",
       "    .dataframe thead th {\n",
       "        text-align: right;\n",
       "    }\n",
       "</style>\n",
       "<table border=\"1\" class=\"dataframe\">\n",
       "  <thead>\n",
       "    <tr style=\"text-align: right;\">\n",
       "      <th></th>\n",
       "      <th>Date</th>\n",
       "      <th>Open</th>\n",
       "      <th>High</th>\n",
       "      <th>Low</th>\n",
       "      <th>Close</th>\n",
       "      <th>Volume</th>\n",
       "      <th>Market_Cap</th>\n",
       "    </tr>\n",
       "  </thead>\n",
       "  <tbody>\n",
       "    <tr>\n",
       "      <th>0</th>\n",
       "      <td>Oct 02  2019</td>\n",
       "      <td>0.044188</td>\n",
       "      <td>0.044265</td>\n",
       "      <td>0.005768</td>\n",
       "      <td>0.008388</td>\n",
       "      <td>105</td>\n",
       "      <td>446 166</td>\n",
       "    </tr>\n",
       "    <tr>\n",
       "      <th>1</th>\n",
       "      <td>Oct 01  2019</td>\n",
       "      <td>0.016597</td>\n",
       "      <td>0.044851</td>\n",
       "      <td>0.004554</td>\n",
       "      <td>0.044174</td>\n",
       "      <td>1 334</td>\n",
       "      <td>2 349 775</td>\n",
       "    </tr>\n",
       "    <tr>\n",
       "      <th>2</th>\n",
       "      <td>Sep 30  2019</td>\n",
       "      <td>0.016271</td>\n",
       "      <td>0.016693</td>\n",
       "      <td>0.015709</td>\n",
       "      <td>0.016597</td>\n",
       "      <td>-</td>\n",
       "      <td>882 883</td>\n",
       "    </tr>\n",
       "    <tr>\n",
       "      <th>3</th>\n",
       "      <td>Sep 29  2019</td>\n",
       "      <td>0.017081</td>\n",
       "      <td>0.017081</td>\n",
       "      <td>0.016230</td>\n",
       "      <td>0.016274</td>\n",
       "      <td>46</td>\n",
       "      <td>865 656</td>\n",
       "    </tr>\n",
       "    <tr>\n",
       "      <th>4</th>\n",
       "      <td>Sep 28  2019</td>\n",
       "      <td>0.017081</td>\n",
       "      <td>0.017081</td>\n",
       "      <td>0.017081</td>\n",
       "      <td>0.017081</td>\n",
       "      <td>-</td>\n",
       "      <td>908 604</td>\n",
       "    </tr>\n",
       "  </tbody>\n",
       "</table>\n",
       "</div>"
      ],
      "text/plain": [
       "           Date      Open      High       Low     Close Volume Market_Cap\n",
       "0  Oct 02  2019  0.044188  0.044265  0.005768  0.008388    105    446 166\n",
       "1  Oct 01  2019  0.016597  0.044851  0.004554  0.044174  1 334  2 349 775\n",
       "2  Sep 30  2019  0.016271  0.016693  0.015709  0.016597      -    882 883\n",
       "3  Sep 29  2019  0.017081  0.017081  0.016230  0.016274     46    865 656\n",
       "4  Sep 28  2019  0.017081  0.017081  0.017081  0.017081      -    908 604"
      ]
     },
     "execution_count": 30,
     "metadata": {},
     "output_type": "execute_result"
    }
   ],
   "source": [
    "df.head()"
   ]
  },
  {
   "cell_type": "code",
   "execution_count": 31,
   "metadata": {},
   "outputs": [
    {
     "data": {
      "text/html": [
       "<div>\n",
       "<style scoped>\n",
       "    .dataframe tbody tr th:only-of-type {\n",
       "        vertical-align: middle;\n",
       "    }\n",
       "\n",
       "    .dataframe tbody tr th {\n",
       "        vertical-align: top;\n",
       "    }\n",
       "\n",
       "    .dataframe thead th {\n",
       "        text-align: right;\n",
       "    }\n",
       "</style>\n",
       "<table border=\"1\" class=\"dataframe\">\n",
       "  <thead>\n",
       "    <tr style=\"text-align: right;\">\n",
       "      <th></th>\n",
       "      <th>Open</th>\n",
       "      <th>High</th>\n",
       "      <th>Low</th>\n",
       "      <th>Close</th>\n",
       "    </tr>\n",
       "  </thead>\n",
       "  <tbody>\n",
       "    <tr>\n",
       "      <th>count</th>\n",
       "      <td>1962.000000</td>\n",
       "      <td>1962.000000</td>\n",
       "      <td>1962.000000</td>\n",
       "      <td>1962.000000</td>\n",
       "    </tr>\n",
       "    <tr>\n",
       "      <th>mean</th>\n",
       "      <td>0.155684</td>\n",
       "      <td>0.170394</td>\n",
       "      <td>0.141706</td>\n",
       "      <td>0.155657</td>\n",
       "    </tr>\n",
       "    <tr>\n",
       "      <th>std</th>\n",
       "      <td>0.259766</td>\n",
       "      <td>0.284850</td>\n",
       "      <td>0.238341</td>\n",
       "      <td>0.259817</td>\n",
       "    </tr>\n",
       "    <tr>\n",
       "      <th>min</th>\n",
       "      <td>0.000291</td>\n",
       "      <td>0.000427</td>\n",
       "      <td>0.000281</td>\n",
       "      <td>0.000291</td>\n",
       "    </tr>\n",
       "    <tr>\n",
       "      <th>25%</th>\n",
       "      <td>0.012198</td>\n",
       "      <td>0.013608</td>\n",
       "      <td>0.010606</td>\n",
       "      <td>0.012253</td>\n",
       "    </tr>\n",
       "    <tr>\n",
       "      <th>50%</th>\n",
       "      <td>0.027759</td>\n",
       "      <td>0.029311</td>\n",
       "      <td>0.025593</td>\n",
       "      <td>0.027759</td>\n",
       "    </tr>\n",
       "    <tr>\n",
       "      <th>75%</th>\n",
       "      <td>0.178404</td>\n",
       "      <td>0.200079</td>\n",
       "      <td>0.157071</td>\n",
       "      <td>0.175569</td>\n",
       "    </tr>\n",
       "    <tr>\n",
       "      <th>max</th>\n",
       "      <td>1.370000</td>\n",
       "      <td>1.910000</td>\n",
       "      <td>1.210000</td>\n",
       "      <td>1.350000</td>\n",
       "    </tr>\n",
       "  </tbody>\n",
       "</table>\n",
       "</div>"
      ],
      "text/plain": [
       "              Open         High          Low        Close\n",
       "count  1962.000000  1962.000000  1962.000000  1962.000000\n",
       "mean      0.155684     0.170394     0.141706     0.155657\n",
       "std       0.259766     0.284850     0.238341     0.259817\n",
       "min       0.000291     0.000427     0.000281     0.000291\n",
       "25%       0.012198     0.013608     0.010606     0.012253\n",
       "50%       0.027759     0.029311     0.025593     0.027759\n",
       "75%       0.178404     0.200079     0.157071     0.175569\n",
       "max       1.370000     1.910000     1.210000     1.350000"
      ]
     },
     "execution_count": 31,
     "metadata": {},
     "output_type": "execute_result"
    }
   ],
   "source": [
    "df.describe()"
   ]
  },
  {
   "cell_type": "code",
   "execution_count": 32,
   "metadata": {},
   "outputs": [
    {
     "data": {
      "text/plain": [
       "Date          0\n",
       "Open          0\n",
       "High          0\n",
       "Low           0\n",
       "Close         0\n",
       "Volume        0\n",
       "Market_Cap    0\n",
       "dtype: int64"
      ]
     },
     "execution_count": 32,
     "metadata": {},
     "output_type": "execute_result"
    }
   ],
   "source": [
    "df.isna().sum()"
   ]
  },
  {
   "cell_type": "code",
   "execution_count": 40,
   "metadata": {},
   "outputs": [
    {
     "name": "stdout",
     "output_type": "stream",
     "text": [
      "<class 'pandas.core.frame.DataFrame'>\n",
      "RangeIndex: 1962 entries, 0 to 1961\n",
      "Data columns (total 7 columns):\n",
      "Date          1962 non-null object\n",
      "Open          1962 non-null float64\n",
      "High          1962 non-null float64\n",
      "Low           1962 non-null float64\n",
      "Close         1962 non-null float64\n",
      "Volume        1962 non-null object\n",
      "Market_Cap    1962 non-null object\n",
      "dtypes: float64(4), object(3)\n",
      "memory usage: 107.4+ KB\n"
     ]
    }
   ],
   "source": [
    "df.info()"
   ]
  },
  {
   "cell_type": "code",
   "execution_count": 34,
   "metadata": {},
   "outputs": [
    {
     "data": {
      "text/plain": [
       "str"
      ]
     },
     "execution_count": 34,
     "metadata": {},
     "output_type": "execute_result"
    }
   ],
   "source": [
    "type(df.Volume[0])"
   ]
  },
  {
   "cell_type": "code",
   "execution_count": 37,
   "metadata": {},
   "outputs": [],
   "source": [
    "df['Volume'] = df['Volume'].replace('-',str(0))\n",
    "df['Volume'] = df['Volume'].apply(lambda x: x.replace(' ',''))\n",
    "df['Market_Cap'] = df['Market_Cap'].apply(lambda x: x.replace(' ',''))"
   ]
  },
  {
   "cell_type": "code",
   "execution_count": 38,
   "metadata": {},
   "outputs": [
    {
     "data": {
      "text/html": [
       "<div>\n",
       "<style scoped>\n",
       "    .dataframe tbody tr th:only-of-type {\n",
       "        vertical-align: middle;\n",
       "    }\n",
       "\n",
       "    .dataframe tbody tr th {\n",
       "        vertical-align: top;\n",
       "    }\n",
       "\n",
       "    .dataframe thead th {\n",
       "        text-align: right;\n",
       "    }\n",
       "</style>\n",
       "<table border=\"1\" class=\"dataframe\">\n",
       "  <thead>\n",
       "    <tr style=\"text-align: right;\">\n",
       "      <th></th>\n",
       "      <th>Date</th>\n",
       "      <th>Open</th>\n",
       "      <th>High</th>\n",
       "      <th>Low</th>\n",
       "      <th>Close</th>\n",
       "      <th>Volume</th>\n",
       "      <th>Market_Cap</th>\n",
       "    </tr>\n",
       "  </thead>\n",
       "  <tbody>\n",
       "    <tr>\n",
       "      <th>0</th>\n",
       "      <td>Oct 02  2019</td>\n",
       "      <td>0.044188</td>\n",
       "      <td>0.044265</td>\n",
       "      <td>0.005768</td>\n",
       "      <td>0.008388</td>\n",
       "      <td>105</td>\n",
       "      <td>446166</td>\n",
       "    </tr>\n",
       "    <tr>\n",
       "      <th>1</th>\n",
       "      <td>Oct 01  2019</td>\n",
       "      <td>0.016597</td>\n",
       "      <td>0.044851</td>\n",
       "      <td>0.004554</td>\n",
       "      <td>0.044174</td>\n",
       "      <td>1334</td>\n",
       "      <td>2349775</td>\n",
       "    </tr>\n",
       "    <tr>\n",
       "      <th>2</th>\n",
       "      <td>Sep 30  2019</td>\n",
       "      <td>0.016271</td>\n",
       "      <td>0.016693</td>\n",
       "      <td>0.015709</td>\n",
       "      <td>0.016597</td>\n",
       "      <td>0</td>\n",
       "      <td>882883</td>\n",
       "    </tr>\n",
       "    <tr>\n",
       "      <th>3</th>\n",
       "      <td>Sep 29  2019</td>\n",
       "      <td>0.017081</td>\n",
       "      <td>0.017081</td>\n",
       "      <td>0.016230</td>\n",
       "      <td>0.016274</td>\n",
       "      <td>46</td>\n",
       "      <td>865656</td>\n",
       "    </tr>\n",
       "    <tr>\n",
       "      <th>4</th>\n",
       "      <td>Sep 28  2019</td>\n",
       "      <td>0.017081</td>\n",
       "      <td>0.017081</td>\n",
       "      <td>0.017081</td>\n",
       "      <td>0.017081</td>\n",
       "      <td>0</td>\n",
       "      <td>908604</td>\n",
       "    </tr>\n",
       "  </tbody>\n",
       "</table>\n",
       "</div>"
      ],
      "text/plain": [
       "           Date      Open      High       Low     Close Volume Market_Cap\n",
       "0  Oct 02  2019  0.044188  0.044265  0.005768  0.008388    105     446166\n",
       "1  Oct 01  2019  0.016597  0.044851  0.004554  0.044174   1334    2349775\n",
       "2  Sep 30  2019  0.016271  0.016693  0.015709  0.016597      0     882883\n",
       "3  Sep 29  2019  0.017081  0.017081  0.016230  0.016274     46     865656\n",
       "4  Sep 28  2019  0.017081  0.017081  0.017081  0.017081      0     908604"
      ]
     },
     "execution_count": 38,
     "metadata": {},
     "output_type": "execute_result"
    }
   ],
   "source": [
    "df.head()"
   ]
  },
  {
   "cell_type": "code",
   "execution_count": 41,
   "metadata": {},
   "outputs": [],
   "source": [
    "df['Volume'] = pd.to_numeric(df['Volume'])"
   ]
  },
  {
   "cell_type": "code",
   "execution_count": 42,
   "metadata": {},
   "outputs": [],
   "source": [
    "df['Market_Cap'] = pd.to_numeric(df['Market_Cap'])"
   ]
  },
  {
   "cell_type": "code",
   "execution_count": 43,
   "metadata": {},
   "outputs": [
    {
     "data": {
      "text/html": [
       "<div>\n",
       "<style scoped>\n",
       "    .dataframe tbody tr th:only-of-type {\n",
       "        vertical-align: middle;\n",
       "    }\n",
       "\n",
       "    .dataframe tbody tr th {\n",
       "        vertical-align: top;\n",
       "    }\n",
       "\n",
       "    .dataframe thead th {\n",
       "        text-align: right;\n",
       "    }\n",
       "</style>\n",
       "<table border=\"1\" class=\"dataframe\">\n",
       "  <thead>\n",
       "    <tr style=\"text-align: right;\">\n",
       "      <th></th>\n",
       "      <th>Open</th>\n",
       "      <th>High</th>\n",
       "      <th>Low</th>\n",
       "      <th>Close</th>\n",
       "      <th>Volume</th>\n",
       "      <th>Market_Cap</th>\n",
       "    </tr>\n",
       "  </thead>\n",
       "  <tbody>\n",
       "    <tr>\n",
       "      <th>count</th>\n",
       "      <td>1962.000000</td>\n",
       "      <td>1962.000000</td>\n",
       "      <td>1962.000000</td>\n",
       "      <td>1962.000000</td>\n",
       "      <td>1.962000e+03</td>\n",
       "      <td>1.962000e+03</td>\n",
       "    </tr>\n",
       "    <tr>\n",
       "      <th>mean</th>\n",
       "      <td>0.155684</td>\n",
       "      <td>0.170394</td>\n",
       "      <td>0.141706</td>\n",
       "      <td>0.155657</td>\n",
       "      <td>1.779726e+04</td>\n",
       "      <td>8.272597e+06</td>\n",
       "    </tr>\n",
       "    <tr>\n",
       "      <th>std</th>\n",
       "      <td>0.259766</td>\n",
       "      <td>0.284850</td>\n",
       "      <td>0.238341</td>\n",
       "      <td>0.259817</td>\n",
       "      <td>1.076784e+05</td>\n",
       "      <td>1.382571e+07</td>\n",
       "    </tr>\n",
       "    <tr>\n",
       "      <th>min</th>\n",
       "      <td>0.000291</td>\n",
       "      <td>0.000427</td>\n",
       "      <td>0.000281</td>\n",
       "      <td>0.000291</td>\n",
       "      <td>0.000000e+00</td>\n",
       "      <td>1.456300e+04</td>\n",
       "    </tr>\n",
       "    <tr>\n",
       "      <th>25%</th>\n",
       "      <td>0.012198</td>\n",
       "      <td>0.013608</td>\n",
       "      <td>0.010606</td>\n",
       "      <td>0.012253</td>\n",
       "      <td>6.000000e+01</td>\n",
       "      <td>6.345450e+05</td>\n",
       "    </tr>\n",
       "    <tr>\n",
       "      <th>50%</th>\n",
       "      <td>0.027759</td>\n",
       "      <td>0.029311</td>\n",
       "      <td>0.025593</td>\n",
       "      <td>0.027759</td>\n",
       "      <td>3.415000e+02</td>\n",
       "      <td>1.476587e+06</td>\n",
       "    </tr>\n",
       "    <tr>\n",
       "      <th>75%</th>\n",
       "      <td>0.178404</td>\n",
       "      <td>0.200079</td>\n",
       "      <td>0.157071</td>\n",
       "      <td>0.175569</td>\n",
       "      <td>2.332750e+03</td>\n",
       "      <td>9.339174e+06</td>\n",
       "    </tr>\n",
       "    <tr>\n",
       "      <th>max</th>\n",
       "      <td>1.370000</td>\n",
       "      <td>1.910000</td>\n",
       "      <td>1.210000</td>\n",
       "      <td>1.350000</td>\n",
       "      <td>2.878780e+06</td>\n",
       "      <td>7.174624e+07</td>\n",
       "    </tr>\n",
       "  </tbody>\n",
       "</table>\n",
       "</div>"
      ],
      "text/plain": [
       "              Open         High          Low        Close        Volume  \\\n",
       "count  1962.000000  1962.000000  1962.000000  1962.000000  1.962000e+03   \n",
       "mean      0.155684     0.170394     0.141706     0.155657  1.779726e+04   \n",
       "std       0.259766     0.284850     0.238341     0.259817  1.076784e+05   \n",
       "min       0.000291     0.000427     0.000281     0.000291  0.000000e+00   \n",
       "25%       0.012198     0.013608     0.010606     0.012253  6.000000e+01   \n",
       "50%       0.027759     0.029311     0.025593     0.027759  3.415000e+02   \n",
       "75%       0.178404     0.200079     0.157071     0.175569  2.332750e+03   \n",
       "max       1.370000     1.910000     1.210000     1.350000  2.878780e+06   \n",
       "\n",
       "         Market_Cap  \n",
       "count  1.962000e+03  \n",
       "mean   8.272597e+06  \n",
       "std    1.382571e+07  \n",
       "min    1.456300e+04  \n",
       "25%    6.345450e+05  \n",
       "50%    1.476587e+06  \n",
       "75%    9.339174e+06  \n",
       "max    7.174624e+07  "
      ]
     },
     "execution_count": 43,
     "metadata": {},
     "output_type": "execute_result"
    }
   ],
   "source": [
    "df.describe()"
   ]
  },
  {
   "cell_type": "code",
   "execution_count": 44,
   "metadata": {},
   "outputs": [
    {
     "data": {
      "text/plain": [
       "Date          0\n",
       "Open          0\n",
       "High          0\n",
       "Low           0\n",
       "Close         0\n",
       "Volume        0\n",
       "Market_Cap    0\n",
       "dtype: int64"
      ]
     },
     "execution_count": 44,
     "metadata": {},
     "output_type": "execute_result"
    }
   ],
   "source": [
    "df.isna().sum()"
   ]
  },
  {
   "cell_type": "code",
   "execution_count": null,
   "metadata": {},
   "outputs": [],
   "source": []
  }
 ],
 "metadata": {
  "kernelspec": {
   "display_name": "Python 3",
   "language": "python",
   "name": "python3"
  },
  "language_info": {
   "codemirror_mode": {
    "name": "ipython",
    "version": 3
   },
   "file_extension": ".py",
   "mimetype": "text/x-python",
   "name": "python",
   "nbconvert_exporter": "python",
   "pygments_lexer": "ipython3",
   "version": "3.6.7"
  }
 },
 "nbformat": 4,
 "nbformat_minor": 2
}
