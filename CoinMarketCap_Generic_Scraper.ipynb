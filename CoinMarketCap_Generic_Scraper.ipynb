{
 "cells": [
  {
   "cell_type": "markdown",
   "metadata": {},
   "source": [
    "effectively next steps are\n",
    "(merging prices for all coins, sorting by date, calculating the average price for high,low, open, close and then plotting them."
   ]
  },
  {
   "cell_type": "code",
   "execution_count": 2,
   "metadata": {},
   "outputs": [
    {
     "data": {
      "text/plain": [
       "'C:\\\\Users\\\\Mark\\\\Documents\\\\DataSci\\\\Module 5\\\\Crypto\\\\Crypto_index_four'"
      ]
     },
     "execution_count": 2,
     "metadata": {},
     "output_type": "execute_result"
    }
   ],
   "source": [
    "import pandas as pd\n",
    "import os\n",
    "import matplotlib.pyplot as plt\n",
    "index_dir = os.getcwd()+'\\\\Crypto_index_four'\n",
    "index_dir"
   ]
  },
  {
   "cell_type": "code",
   "execution_count": 15,
   "metadata": {},
   "outputs": [],
   "source": [
    "df1 = pd.read_csv(index_dir+'\\\\Aidcoin.csv')\n",
    "df2 = pd.read_csv(index_dir+'\\\\decred.csv')\n",
    "df3 = pd.read_csv(index_dir+'\\\\ecobit.csv')\n",
    "df4 = pd.read_csv(index_dir+'\\\\faircoin.csv')\n",
    "df_list = [df1,df2,df3,df4]"
   ]
  },
  {
   "cell_type": "code",
   "execution_count": 4,
   "metadata": {},
   "outputs": [
    {
     "data": {
      "text/html": [
       "<div>\n",
       "<style scoped>\n",
       "    .dataframe tbody tr th:only-of-type {\n",
       "        vertical-align: middle;\n",
       "    }\n",
       "\n",
       "    .dataframe tbody tr th {\n",
       "        vertical-align: top;\n",
       "    }\n",
       "\n",
       "    .dataframe thead th {\n",
       "        text-align: right;\n",
       "    }\n",
       "</style>\n",
       "<table border=\"1\" class=\"dataframe\">\n",
       "  <thead>\n",
       "    <tr style=\"text-align: right;\">\n",
       "      <th></th>\n",
       "      <th>Date</th>\n",
       "      <th>Open</th>\n",
       "      <th>High</th>\n",
       "      <th>Low</th>\n",
       "      <th>Close</th>\n",
       "      <th>Volume</th>\n",
       "      <th>Market_Cap</th>\n",
       "    </tr>\n",
       "  </thead>\n",
       "  <tbody>\n",
       "    <tr>\n",
       "      <th>0</th>\n",
       "      <td>Oct 02  2019</td>\n",
       "      <td>0.008789</td>\n",
       "      <td>0.008906</td>\n",
       "      <td>0.008450</td>\n",
       "      <td>0.008582</td>\n",
       "      <td>444</td>\n",
       "      <td>391 753</td>\n",
       "    </tr>\n",
       "    <tr>\n",
       "      <th>1</th>\n",
       "      <td>Oct 01  2019</td>\n",
       "      <td>0.008583</td>\n",
       "      <td>0.009212</td>\n",
       "      <td>0.008516</td>\n",
       "      <td>0.008789</td>\n",
       "      <td>278</td>\n",
       "      <td>401 192</td>\n",
       "    </tr>\n",
       "    <tr>\n",
       "      <th>2</th>\n",
       "      <td>Sep 30  2019</td>\n",
       "      <td>0.009616</td>\n",
       "      <td>0.009616</td>\n",
       "      <td>0.008347</td>\n",
       "      <td>0.008581</td>\n",
       "      <td>216</td>\n",
       "      <td>391 716</td>\n",
       "    </tr>\n",
       "    <tr>\n",
       "      <th>3</th>\n",
       "      <td>Sep 29  2019</td>\n",
       "      <td>0.011106</td>\n",
       "      <td>0.011110</td>\n",
       "      <td>0.008836</td>\n",
       "      <td>0.009617</td>\n",
       "      <td>64</td>\n",
       "      <td>438 985</td>\n",
       "    </tr>\n",
       "    <tr>\n",
       "      <th>4</th>\n",
       "      <td>Sep 28  2019</td>\n",
       "      <td>0.010464</td>\n",
       "      <td>0.011370</td>\n",
       "      <td>0.009046</td>\n",
       "      <td>0.011105</td>\n",
       "      <td>282</td>\n",
       "      <td>506 917</td>\n",
       "    </tr>\n",
       "  </tbody>\n",
       "</table>\n",
       "</div>"
      ],
      "text/plain": [
       "           Date      Open      High       Low     Close Volume Market_Cap\n",
       "0  Oct 02  2019  0.008789  0.008906  0.008450  0.008582    444    391 753\n",
       "1  Oct 01  2019  0.008583  0.009212  0.008516  0.008789    278    401 192\n",
       "2  Sep 30  2019  0.009616  0.009616  0.008347  0.008581    216    391 716\n",
       "3  Sep 29  2019  0.011106  0.011110  0.008836  0.009617     64    438 985\n",
       "4  Sep 28  2019  0.010464  0.011370  0.009046  0.011105    282    506 917"
      ]
     },
     "execution_count": 4,
     "metadata": {},
     "output_type": "execute_result"
    }
   ],
   "source": [
    "df1.head()"
   ]
  },
  {
   "cell_type": "code",
   "execution_count": 5,
   "metadata": {},
   "outputs": [
    {
     "data": {
      "text/html": [
       "<div>\n",
       "<style scoped>\n",
       "    .dataframe tbody tr th:only-of-type {\n",
       "        vertical-align: middle;\n",
       "    }\n",
       "\n",
       "    .dataframe tbody tr th {\n",
       "        vertical-align: top;\n",
       "    }\n",
       "\n",
       "    .dataframe thead th {\n",
       "        text-align: right;\n",
       "    }\n",
       "</style>\n",
       "<table border=\"1\" class=\"dataframe\">\n",
       "  <thead>\n",
       "    <tr style=\"text-align: right;\">\n",
       "      <th></th>\n",
       "      <th>Open</th>\n",
       "      <th>High</th>\n",
       "      <th>Low</th>\n",
       "      <th>Close</th>\n",
       "    </tr>\n",
       "  </thead>\n",
       "  <tbody>\n",
       "    <tr>\n",
       "      <th>count</th>\n",
       "      <td>617.000000</td>\n",
       "      <td>617.000000</td>\n",
       "      <td>617.000000</td>\n",
       "      <td>617.000000</td>\n",
       "    </tr>\n",
       "    <tr>\n",
       "      <th>mean</th>\n",
       "      <td>0.091198</td>\n",
       "      <td>0.097434</td>\n",
       "      <td>0.084274</td>\n",
       "      <td>0.089999</td>\n",
       "    </tr>\n",
       "    <tr>\n",
       "      <th>std</th>\n",
       "      <td>0.103489</td>\n",
       "      <td>0.110784</td>\n",
       "      <td>0.092051</td>\n",
       "      <td>0.100109</td>\n",
       "    </tr>\n",
       "    <tr>\n",
       "      <th>min</th>\n",
       "      <td>0.008054</td>\n",
       "      <td>0.008653</td>\n",
       "      <td>0.007716</td>\n",
       "      <td>0.008055</td>\n",
       "    </tr>\n",
       "    <tr>\n",
       "      <th>25%</th>\n",
       "      <td>0.028068</td>\n",
       "      <td>0.032133</td>\n",
       "      <td>0.024653</td>\n",
       "      <td>0.027383</td>\n",
       "    </tr>\n",
       "    <tr>\n",
       "      <th>50%</th>\n",
       "      <td>0.054734</td>\n",
       "      <td>0.057522</td>\n",
       "      <td>0.051587</td>\n",
       "      <td>0.054637</td>\n",
       "    </tr>\n",
       "    <tr>\n",
       "      <th>75%</th>\n",
       "      <td>0.116250</td>\n",
       "      <td>0.121042</td>\n",
       "      <td>0.110423</td>\n",
       "      <td>0.116268</td>\n",
       "    </tr>\n",
       "    <tr>\n",
       "      <th>max</th>\n",
       "      <td>0.808118</td>\n",
       "      <td>0.827591</td>\n",
       "      <td>0.670572</td>\n",
       "      <td>0.803381</td>\n",
       "    </tr>\n",
       "  </tbody>\n",
       "</table>\n",
       "</div>"
      ],
      "text/plain": [
       "             Open        High         Low       Close\n",
       "count  617.000000  617.000000  617.000000  617.000000\n",
       "mean     0.091198    0.097434    0.084274    0.089999\n",
       "std      0.103489    0.110784    0.092051    0.100109\n",
       "min      0.008054    0.008653    0.007716    0.008055\n",
       "25%      0.028068    0.032133    0.024653    0.027383\n",
       "50%      0.054734    0.057522    0.051587    0.054637\n",
       "75%      0.116250    0.121042    0.110423    0.116268\n",
       "max      0.808118    0.827591    0.670572    0.803381"
      ]
     },
     "execution_count": 5,
     "metadata": {},
     "output_type": "execute_result"
    }
   ],
   "source": [
    "df1.describe()"
   ]
  },
  {
   "cell_type": "code",
   "execution_count": 32,
   "metadata": {},
   "outputs": [
    {
     "data": {
      "text/plain": [
       "Date          0\n",
       "Open          0\n",
       "High          0\n",
       "Low           0\n",
       "Close         0\n",
       "Volume        0\n",
       "Market_Cap    0\n",
       "dtype: int64"
      ]
     },
     "execution_count": 32,
     "metadata": {},
     "output_type": "execute_result"
    }
   ],
   "source": [
    "df.isna().sum()"
   ]
  },
  {
   "cell_type": "code",
   "execution_count": 6,
   "metadata": {},
   "outputs": [
    {
     "name": "stdout",
     "output_type": "stream",
     "text": [
      "<class 'pandas.core.frame.DataFrame'>\n",
      "RangeIndex: 617 entries, 0 to 616\n",
      "Data columns (total 7 columns):\n",
      "Date          617 non-null object\n",
      "Open          617 non-null float64\n",
      "High          617 non-null float64\n",
      "Low           617 non-null float64\n",
      "Close         617 non-null float64\n",
      "Volume        617 non-null object\n",
      "Market_Cap    617 non-null object\n",
      "dtypes: float64(4), object(3)\n",
      "memory usage: 33.8+ KB\n"
     ]
    }
   ],
   "source": [
    "df1.info()"
   ]
  },
  {
   "cell_type": "code",
   "execution_count": 34,
   "metadata": {},
   "outputs": [
    {
     "data": {
      "text/plain": [
       "str"
      ]
     },
     "execution_count": 34,
     "metadata": {},
     "output_type": "execute_result"
    }
   ],
   "source": [
    "type(df.Volume[0])"
   ]
  },
  {
   "cell_type": "code",
   "execution_count": 16,
   "metadata": {},
   "outputs": [],
   "source": [
    "for i in range(len(df_list)):\n",
    "    df_list[i].Volume = df_list[i].Volume.replace('-', str(0))\n",
    "    df_list[i].Market_Cap = df_list[i].Market_Cap.replace('-', str(0))\n",
    "    df_list[i].Volume = df_list[i].Volume.apply(lambda x: x.replace(' ', ''))\n",
    "    df_list[i].Market_Cap = df_list[i].Market_Cap.apply(lambda x: x.replace(' ',''))\n",
    "    df_list[i].Volume = pd.to_numeric(df_list[i].Volume)\n",
    "    df_list[i].Market_Cap = pd.to_numeric(df_list[i].Market_Cap)"
   ]
  },
  {
   "cell_type": "code",
   "execution_count": 17,
   "metadata": {},
   "outputs": [
    {
     "data": {
      "text/html": [
       "<div>\n",
       "<style scoped>\n",
       "    .dataframe tbody tr th:only-of-type {\n",
       "        vertical-align: middle;\n",
       "    }\n",
       "\n",
       "    .dataframe tbody tr th {\n",
       "        vertical-align: top;\n",
       "    }\n",
       "\n",
       "    .dataframe thead th {\n",
       "        text-align: right;\n",
       "    }\n",
       "</style>\n",
       "<table border=\"1\" class=\"dataframe\">\n",
       "  <thead>\n",
       "    <tr style=\"text-align: right;\">\n",
       "      <th></th>\n",
       "      <th>Date</th>\n",
       "      <th>Open</th>\n",
       "      <th>High</th>\n",
       "      <th>Low</th>\n",
       "      <th>Close</th>\n",
       "      <th>Volume</th>\n",
       "      <th>Market_Cap</th>\n",
       "    </tr>\n",
       "  </thead>\n",
       "  <tbody>\n",
       "    <tr>\n",
       "      <th>0</th>\n",
       "      <td>Oct 02  2019</td>\n",
       "      <td>0.008789</td>\n",
       "      <td>0.008906</td>\n",
       "      <td>0.008450</td>\n",
       "      <td>0.008582</td>\n",
       "      <td>444</td>\n",
       "      <td>391753</td>\n",
       "    </tr>\n",
       "    <tr>\n",
       "      <th>1</th>\n",
       "      <td>Oct 01  2019</td>\n",
       "      <td>0.008583</td>\n",
       "      <td>0.009212</td>\n",
       "      <td>0.008516</td>\n",
       "      <td>0.008789</td>\n",
       "      <td>278</td>\n",
       "      <td>401192</td>\n",
       "    </tr>\n",
       "    <tr>\n",
       "      <th>2</th>\n",
       "      <td>Sep 30  2019</td>\n",
       "      <td>0.009616</td>\n",
       "      <td>0.009616</td>\n",
       "      <td>0.008347</td>\n",
       "      <td>0.008581</td>\n",
       "      <td>216</td>\n",
       "      <td>391716</td>\n",
       "    </tr>\n",
       "    <tr>\n",
       "      <th>3</th>\n",
       "      <td>Sep 29  2019</td>\n",
       "      <td>0.011106</td>\n",
       "      <td>0.011110</td>\n",
       "      <td>0.008836</td>\n",
       "      <td>0.009617</td>\n",
       "      <td>64</td>\n",
       "      <td>438985</td>\n",
       "    </tr>\n",
       "    <tr>\n",
       "      <th>4</th>\n",
       "      <td>Sep 28  2019</td>\n",
       "      <td>0.010464</td>\n",
       "      <td>0.011370</td>\n",
       "      <td>0.009046</td>\n",
       "      <td>0.011105</td>\n",
       "      <td>282</td>\n",
       "      <td>506917</td>\n",
       "    </tr>\n",
       "  </tbody>\n",
       "</table>\n",
       "</div>"
      ],
      "text/plain": [
       "           Date      Open      High       Low     Close  Volume  Market_Cap\n",
       "0  Oct 02  2019  0.008789  0.008906  0.008450  0.008582     444      391753\n",
       "1  Oct 01  2019  0.008583  0.009212  0.008516  0.008789     278      401192\n",
       "2  Sep 30  2019  0.009616  0.009616  0.008347  0.008581     216      391716\n",
       "3  Sep 29  2019  0.011106  0.011110  0.008836  0.009617      64      438985\n",
       "4  Sep 28  2019  0.010464  0.011370  0.009046  0.011105     282      506917"
      ]
     },
     "execution_count": 17,
     "metadata": {},
     "output_type": "execute_result"
    }
   ],
   "source": [
    "df_list[0].head()"
   ]
  },
  {
   "cell_type": "code",
   "execution_count": 18,
   "metadata": {},
   "outputs": [
    {
     "name": "stdout",
     "output_type": "stream",
     "text": [
      "<class 'pandas.core.frame.DataFrame'>\n",
      "RangeIndex: 1331 entries, 0 to 1330\n",
      "Data columns (total 7 columns):\n",
      "Date          1331 non-null object\n",
      "Open          1331 non-null float64\n",
      "High          1331 non-null float64\n",
      "Low           1331 non-null float64\n",
      "Close         1331 non-null float64\n",
      "Volume        1331 non-null int64\n",
      "Market_Cap    1331 non-null int64\n",
      "dtypes: float64(4), int64(2), object(1)\n",
      "memory usage: 72.9+ KB\n"
     ]
    }
   ],
   "source": [
    "df_list[1].info()"
   ]
  },
  {
   "cell_type": "code",
   "execution_count": 23,
   "metadata": {},
   "outputs": [
    {
     "name": "stdout",
     "output_type": "stream",
     "text": [
      "AidCoin\n",
      "             Open        High         Low       Close        Volume  \\\n",
      "count  617.000000  617.000000  617.000000  617.000000  6.170000e+02   \n",
      "mean     0.091198    0.097434    0.084274    0.089999  2.230643e+05   \n",
      "std      0.103489    0.110784    0.092051    0.100109  6.622979e+05   \n",
      "min      0.008054    0.008653    0.007716    0.008055  6.400000e+01   \n",
      "25%      0.028068    0.032133    0.024653    0.027383  1.531600e+04   \n",
      "50%      0.054734    0.057522    0.051587    0.054637  4.850000e+04   \n",
      "75%      0.116250    0.121042    0.110423    0.116268  1.916540e+05   \n",
      "max      0.808118    0.827591    0.670572    0.803381  1.081590e+07   \n",
      "\n",
      "         Market_Cap  \n",
      "count  6.170000e+02  \n",
      "mean   2.837725e+06  \n",
      "std    2.307381e+06  \n",
      "min    0.000000e+00  \n",
      "25%    1.041639e+06  \n",
      "50%    2.310775e+06  \n",
      "75%    4.193674e+06  \n",
      "max    1.119565e+07  \n",
      "##################################################\n",
      "Decred\n",
      "              Open         High          Low        Close        Volume  \\\n",
      "count  1331.000000  1331.000000  1331.000000  1331.000000  1.331000e+03   \n",
      "mean     28.701319    30.264438    27.108433    28.717865  2.421225e+06   \n",
      "std      27.974969    29.594244    26.229161    27.961888  5.299522e+06   \n",
      "min       0.421673     0.459372     0.394796     0.422478  2.725000e+03   \n",
      "25%       2.050000     2.180000     1.935000     2.060000  5.786350e+04   \n",
      "50%      24.550000    25.640000    23.170000    24.470000  1.234300e+06   \n",
      "75%      38.575000    40.060000    36.870000    38.615000  2.637520e+06   \n",
      "max     122.400000   139.940000   116.940000   122.740000  1.248591e+08   \n",
      "\n",
      "         Market_Cap  \n",
      "count  1.331000e+03  \n",
      "mean   2.107085e+08  \n",
      "std    2.000942e+08  \n",
      "min    0.000000e+00  \n",
      "25%    3.923034e+06  \n",
      "50%    1.758996e+08  \n",
      "75%    3.176667e+08  \n",
      "max    8.345870e+08  \n",
      "##################################################\n",
      "Ecobit\n",
      "             Open        High         Low       Close         Volume  \\\n",
      "count  816.000000  816.000000  816.000000  816.000000     816.000000   \n",
      "mean     0.017414    0.019541    0.015770    0.017357    2830.811275   \n",
      "std      0.012377    0.015676    0.010269    0.012331    8980.698176   \n",
      "min      0.003162    0.003186    0.002631    0.003162       0.000000   \n",
      "25%      0.010038    0.010857    0.009193    0.009996       2.000000   \n",
      "50%      0.014957    0.016023    0.013820    0.014910      92.500000   \n",
      "75%      0.020468    0.022404    0.018330    0.020469     817.250000   \n",
      "max      0.127461    0.186572    0.097190    0.127294  117866.000000   \n",
      "\n",
      "         Market_Cap  \n",
      "count  8.160000e+02  \n",
      "mean   7.447421e+06  \n",
      "std    5.516292e+06  \n",
      "min    0.000000e+00  \n",
      "25%    4.158898e+06  \n",
      "50%    6.484200e+06  \n",
      "75%    8.694733e+06  \n",
      "max    5.657511e+07  \n",
      "##################################################\n",
      "Faircoin\n",
      "              Open         High          Low        Close        Volume  \\\n",
      "count  1962.000000  1962.000000  1962.000000  1962.000000  1.962000e+03   \n",
      "mean      0.155684     0.170394     0.141706     0.155657  1.779726e+04   \n",
      "std       0.259766     0.284850     0.238341     0.259817  1.076784e+05   \n",
      "min       0.000291     0.000427     0.000281     0.000291  0.000000e+00   \n",
      "25%       0.012198     0.013608     0.010606     0.012253  6.000000e+01   \n",
      "50%       0.027759     0.029311     0.025593     0.027759  3.415000e+02   \n",
      "75%       0.178404     0.200079     0.157071     0.175569  2.332750e+03   \n",
      "max       1.370000     1.910000     1.210000     1.350000  2.878780e+06   \n",
      "\n",
      "         Market_Cap  \n",
      "count  1.962000e+03  \n",
      "mean   8.272597e+06  \n",
      "std    1.382571e+07  \n",
      "min    1.456300e+04  \n",
      "25%    6.345450e+05  \n",
      "50%    1.476587e+06  \n",
      "75%    9.339174e+06  \n",
      "max    7.174624e+07  \n",
      "##################################################\n"
     ]
    }
   ],
   "source": [
    "currency = ['AidCoin', 'Decred', 'Ecobit', 'Faircoin']\n",
    "for i in range(len(df_list)):\n",
    "    print(currency[i])\n",
    "    print(df_list[i].describe())\n",
    "    print('#'*50)"
   ]
  },
  {
   "cell_type": "code",
   "execution_count": 25,
   "metadata": {},
   "outputs": [
    {
     "name": "stdout",
     "output_type": "stream",
     "text": [
      "Date          0\n",
      "Open          0\n",
      "High          0\n",
      "Low           0\n",
      "Close         0\n",
      "Volume        0\n",
      "Market_Cap    0\n",
      "dtype: int64\n",
      "Date          0\n",
      "Open          0\n",
      "High          0\n",
      "Low           0\n",
      "Close         0\n",
      "Volume        0\n",
      "Market_Cap    0\n",
      "dtype: int64\n",
      "Date          0\n",
      "Open          0\n",
      "High          0\n",
      "Low           0\n",
      "Close         0\n",
      "Volume        0\n",
      "Market_Cap    0\n",
      "dtype: int64\n",
      "Date          0\n",
      "Open          0\n",
      "High          0\n",
      "Low           0\n",
      "Close         0\n",
      "Volume        0\n",
      "Market_Cap    0\n",
      "dtype: int64\n"
     ]
    }
   ],
   "source": [
    "for i in range(len(df_list)):\n",
    "    print(df_list[i].isna().sum())"
   ]
  },
  {
   "cell_type": "code",
   "execution_count": 44,
   "metadata": {},
   "outputs": [
    {
     "data": {
      "text/plain": [
       "21"
      ]
     },
     "execution_count": 44,
     "metadata": {},
     "output_type": "execute_result"
    }
   ],
   "source": [
    "d"
   ]
  },
  {
   "cell_type": "code",
   "execution_count": 51,
   "metadata": {},
   "outputs": [
    {
     "data": {
      "text/plain": [
       "Index(['Date', 'AidCoin_Open', 'AidCoin_High', 'AidCoin_Low', 'AidCoin_Close',\n",
       "       'AidCoin_Volume', 'AidCoin_Market_Cap', 'Decred_Open', 'Decred_High',\n",
       "       'Decred_Low', 'Decred_Close', 'Decred_Volume', 'Decred_Market_Cap',\n",
       "       'Ecobit_Open', 'Ecobit_High', 'Ecobit_Low', 'Ecobit_Close',\n",
       "       'Ecobit_Volume', 'Ecobit_Market_Cap', 'Faircoin_Open', 'Faircoin_High',\n",
       "       'Faircoin_Low', 'Faircoin_Close', 'Faircoin_Volume',\n",
       "       'Faircoin_Market_Cap'],\n",
       "      dtype='object')"
      ]
     },
     "execution_count": 51,
     "metadata": {},
     "output_type": "execute_result"
    }
   ],
   "source": [
    "joined_df = pd.merge(df_list[3], df_list[2], on='Date', how='left')\n",
    "joined_df =pd.merge(joined_df, df_list[1], on='Date', how='left')\n",
    "joined_df =pd.merge(joined_df, df_list[0], on='Date', how='left')\n",
    "joined_df.columns = ['Date', # 0 : 1-6 : 7-12 : 13-18 : 19-24 \n",
    "                    f'{currency[0]}_Open', f'{currency[0]}_High', f'{currency[0]}_Low', f'{currency[0]}_Close', f'{currency[0]}_Volume', f'{currency[0]}_Market_Cap',\n",
    "                    f'{currency[1]}_Open', f'{currency[1]}_High', f'{currency[1]}_Low', f'{currency[1]}_Close', f'{currency[1]}_Volume', f'{currency[1]}_Market_Cap',\n",
    "                    f'{currency[2]}_Open', f'{currency[2]}_High', f'{currency[2]}_Low', f'{currency[2]}_Close', f'{currency[2]}_Volume', f'{currency[2]}_Market_Cap',\n",
    "                    f'{currency[3]}_Open', f'{currency[3]}_High', f'{currency[3]}_Low', f'{currency[3]}_Close', f'{currency[3]}_Volume', f'{currency[3]}_Market_Cap',]\n",
    "(joined_df.columns)"
   ]
  },
  {
   "cell_type": "code",
   "execution_count": 49,
   "metadata": {},
   "outputs": [
    {
     "data": {
      "text/plain": [
       "0.008789"
      ]
     },
     "execution_count": 49,
     "metadata": {},
     "output_type": "execute_result"
    }
   ],
   "source": [
    "# for the weights multipley a value by the market cap then add to the next currency / that sum by the sum of all market caps"
   ]
  },
  {
   "cell_type": "code",
   "execution_count": 53,
   "metadata": {},
   "outputs": [
    {
     "ename": "NameError",
     "evalue": "name 'df' is not defined",
     "output_type": "error",
     "traceback": [
      "\u001b[1;31m---------------------------------------------------------------------------\u001b[0m",
      "\u001b[1;31mNameError\u001b[0m                                 Traceback (most recent call last)",
      "\u001b[1;32m<ipython-input-53-b7e2469b5601>\u001b[0m in \u001b[0;36m<module>\u001b[1;34m\u001b[0m\n\u001b[0;32m      2\u001b[0m \u001b[1;32mfor\u001b[0m \u001b[0mi\u001b[0m \u001b[1;32min\u001b[0m \u001b[0mrange\u001b[0m\u001b[1;33m(\u001b[0m\u001b[0mlen\u001b[0m\u001b[1;33m(\u001b[0m\u001b[0mjoined_df\u001b[0m\u001b[1;33m)\u001b[0m\u001b[1;33m-\u001b[0m\u001b[1;36m1\u001b[0m\u001b[1;33m)\u001b[0m\u001b[1;33m:\u001b[0m\u001b[1;33m\u001b[0m\u001b[1;33m\u001b[0m\u001b[0m\n\u001b[0;32m      3\u001b[0m     a=((df.iloc[i,1])*(df.iloc[i,6])+(df.iloc[i,7])*(df.iloc[i,12])+(df.iloc[i,13])*(df.iloc[i,18])\\\n\u001b[1;32m----> 4\u001b[1;33m     +(df.iloc[i,19])*(df.iloc[i,24]))/(df.iloc[i,6]+df.iloc[i,12]+df.iloc[i,18]+df.iloc[i,24])\n\u001b[0m\u001b[0;32m      5\u001b[0m     \u001b[0mweighted_open\u001b[0m\u001b[1;33m.\u001b[0m\u001b[0mappend\u001b[0m\u001b[1;33m(\u001b[0m\u001b[0ma\u001b[0m\u001b[1;33m)\u001b[0m\u001b[1;33m\u001b[0m\u001b[1;33m\u001b[0m\u001b[0m\n",
      "\u001b[1;31mNameError\u001b[0m: name 'df' is not defined"
     ]
    }
   ],
   "source": [
    "weighted_open=[]\n",
    "for i in range(len(joined_df)-1):\n",
    "    a=((df.iloc[i,1])*(df.iloc[i,6])+(df.iloc[i,7])*(df.iloc[i,12])+(df.iloc[i,13])*(df.iloc[i,18])\\\n",
    "    +(df.iloc[i,19])*(df.iloc[i,24]))/(df.iloc[i,6]+df.iloc[i,12]+df.iloc[i,18]+df.iloc[i,24])\n",
    "    weighted_open.append(a)"
   ]
  },
  {
   "cell_type": "code",
   "execution_count": null,
   "metadata": {},
   "outputs": [],
   "source": [
    "weighted_open[:5]"
   ]
  },
  {
   "cell_type": "code",
   "execution_count": null,
   "metadata": {},
   "outputs": [],
   "source": [
    "# df = pd.merge(df4, df3, on='Date', how='left')\n",
    "# df=pd.merge(df,df2, on='Date', how='left')\n",
    "# df=pd.merge(df,df1, on='Date', how='left')\n",
    "# df.columns = ['Date','faircoin_Close','faircoin_Market','ecobit_Close','ecobit_Market',\n",
    "#                      \"decred_Close\",'decred_Market','AidCoin_Close','AidCoin_Market']\n",
    "# df=df.fillna(0"
   ]
  },
  {
   "cell_type": "code",
   "execution_count": null,
   "metadata": {},
   "outputs": [],
   "source": [
    "# weighted_Close=[]\n",
    "# for i in range(len(df)-1):\n",
    "#     a=((df.iloc[i,1])*(df.iloc[i,2])+(df.iloc[i,3])*(df.iloc[i,4])+(df.iloc[i,5])*(df.iloc[i,6])\\\n",
    "#     +(df.iloc[i,7])*(df.iloc[i,8]))/(df.iloc[i,2]+df.iloc[i,4]+df.iloc[i,6]+df.iloc[i,8])\n",
    "#     weighted_Close.append(a)"
   ]
  },
  {
   "cell_type": "code",
   "execution_count": null,
   "metadata": {},
   "outputs": [],
   "source": [
    "# df = pd.merge(df4, df3, on='Date', how='left')\n",
    "# df=pd.merge(df,df2, on='Date', how='left')\n",
    "# df=pd.merge(df,df1, on='Date', how='left')\n",
    "# df.columns = ['Date','faircoin_Low','faircoin_Market','ecobit_Low','ecobit_Market',\n",
    "#                      \"decred_Low\",'decred_Market','AidCoin_Low','AidCoin_Market']\n",
    "# df=df.fillna(0)"
   ]
  },
  {
   "cell_type": "code",
   "execution_count": null,
   "metadata": {},
   "outputs": [],
   "source": [
    "# weighted_low=[]\n",
    "# for i in range(len(df)-1):\n",
    "#     a=((df.iloc[i,1])*(df.iloc[i,2])+(df.iloc[i,3])*(df.iloc[i,4])+(df.iloc[i,5])*(df.iloc[i,6])\\\n",
    "#     +(df.iloc[i,7])*(df.iloc[i,8]))/(df.iloc[i,2]+df.iloc[i,4]+df.iloc[i,6]+df.iloc[i,8])\n",
    "#     weighted_low.append(a)"
   ]
  },
  {
   "cell_type": "code",
   "execution_count": null,
   "metadata": {},
   "outputs": [],
   "source": [
    "# df = pd.merge(df4, df3, on='Date', how='left')\n",
    "# df=pd.merge(df,df2, on='Date', how='left')\n",
    "# df=pd.merge(df,df1, on='Date', how='left')\n",
    "# df.columns = ['Date','faircoin_High','faircoin_Market','ecobit_High','ecobit_Market',\n",
    "#                      \"decred_High\",'decred_Market','AidCoin_High','AidCoin_Market']\n",
    "# df=df.fillna(0)"
   ]
  },
  {
   "cell_type": "code",
   "execution_count": null,
   "metadata": {},
   "outputs": [],
   "source": [
    "# weighted_high=[]\n",
    "# for i in range(len(df)-1):\n",
    "#     a=((df.iloc[i,1])*(df.iloc[i,2])+(df.iloc[i,3])*(df.iloc[i,4])+(df.iloc[i,5])*(df.iloc[i,6])\\\n",
    "#     +(df.iloc[i,7])*(df.iloc[i,8]))/(df.iloc[i,2]+df.iloc[i,4]+df.iloc[i,6]+df.iloc[i,8])\n",
    "#     weighted_high.append(a)"
   ]
  }
 ],
 "metadata": {
  "kernelspec": {
   "display_name": "Python 3",
   "language": "python",
   "name": "python3"
  },
  "language_info": {
   "codemirror_mode": {
    "name": "ipython",
    "version": 3
   },
   "file_extension": ".py",
   "mimetype": "text/x-python",
   "name": "python",
   "nbconvert_exporter": "python",
   "pygments_lexer": "ipython3",
   "version": "3.6.7"
  }
 },
 "nbformat": 4,
 "nbformat_minor": 2
}
