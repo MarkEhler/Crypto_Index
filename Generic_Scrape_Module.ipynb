{
 "cells": [
  {
   "cell_type": "markdown",
   "metadata": {},
   "source": [
    "# Coin Market Cap Scraper\n",
    "Generic scraper takes a list of `coins` that are names of currencies as input and an optional `start_date` and by calling the `compile_csv` function saves a csv file for each coin."
   ]
  },
  {
   "cell_type": "code",
   "execution_count": 2,
   "metadata": {},
   "outputs": [],
   "source": [
    "import bs4\n",
    "from urllib.request import urlopen as uReq\n",
    "from bs4 import BeautifulSoup as soup\n",
    "import requests\n",
    "import datetime"
   ]
  },
  {
   "cell_type": "markdown",
   "metadata": {},
   "source": [
    "# General init Class"
   ]
  },
  {
   "cell_type": "code",
   "execution_count": 37,
   "metadata": {},
   "outputs": [],
   "source": [
    "current_time = datetime.datetime.now()\n",
    "#     coins accepts a list\n",
    "class Scrape_Coin(object):\n",
    "\n",
    "    def __init__(self,\n",
    "                coins = None,\n",
    "                start_date = '20130428',\n",
    "                end_date = str(current_time.year) + str(current_time.month) + str(current_time.day)):\n",
    "        self.coins = coins\n",
    "        self.start_date = start_date\n",
    "        self.end_date = end_date\n",
    "        \n",
    "    def scrape_hist(self, coin):\n",
    "        source=requests.get(f\"https://coinmarketcap.com/currencies/{coin}/historical-data/?start={self.start_date}&end={self.end_date}\").text\n",
    "        page_soup=soup(source,\"lxml\")\n",
    "        scraped_page=page_soup.find_all(\"tr\",{\"class\":\"text-right\"})\n",
    "        return scraped_page\n",
    "    \n",
    "    def compile_csv(self):\n",
    "        coin_list = {}\n",
    "        for i in self.coins:\n",
    "            coin_list.update( {i : self.scrape_hist(i)} )\n",
    "\n",
    "        for i in coin_list.keys():\n",
    "            filename= f\"{i}.csv\"\n",
    "            f=open(filename,\"w\")\n",
    "            headers=\"Date,Open,High,Low,Close,Volume,Market_Cap\\n\"\n",
    "            f.write(headers)\n",
    "            for j in range(len(coin_list[i])):\n",
    "                date = coins[i][j].td.text\n",
    "                price_list = coins[i][j].find_all(\"td\")\n",
    "                price = price_list[1].text\n",
    "                high = price_list[2].text\n",
    "                low = price_list[3].text\n",
    "                close = price_list[4].text\n",
    "                volume = price_list[5].text\n",
    "                market_cap = price_list[6].text\n",
    "                row=date.replace(\",\",\" \")+\",\"+price.replace(\",\",\"\") + \",\"+high.replace(\",\",\"\")+\",\"+low.replace(\",\",\"\")+\",\"+close.replace(\",\",\"\")+\",\"+volume.replace(\",\",\"\")+\",\"+market_cap.replace(\",\",\"\")+\"\\n\" \n",
    "                f.write(row)\n",
    "            f.close()"
   ]
  },
  {
   "cell_type": "code",
   "execution_count": 2,
   "metadata": {},
   "outputs": [
    {
     "ename": "NameError",
     "evalue": "name 'Scrape_Coin' is not defined",
     "output_type": "error",
     "traceback": [
      "\u001b[1;31m---------------------------------------------------------------------------\u001b[0m",
      "\u001b[1;31mNameError\u001b[0m                                 Traceback (most recent call last)",
      "\u001b[1;32m<ipython-input-2-c5b758b07021>\u001b[0m in \u001b[0;36m<module>\u001b[1;34m\u001b[0m\n\u001b[0;32m      1\u001b[0m \u001b[1;31m# test run\u001b[0m\u001b[1;33m\u001b[0m\u001b[1;33m\u001b[0m\u001b[1;33m\u001b[0m\u001b[0m\n\u001b[0;32m      2\u001b[0m \u001b[1;31m# startdate\u001b[0m\u001b[1;33m\u001b[0m\u001b[1;33m\u001b[0m\u001b[1;33m\u001b[0m\u001b[0m\n\u001b[1;32m----> 3\u001b[1;33m \u001b[0mscraper\u001b[0m \u001b[1;33m=\u001b[0m \u001b[0mScrape_Coin\u001b[0m\u001b[1;33m(\u001b[0m\u001b[0mcoins\u001b[0m\u001b[1;33m=\u001b[0m\u001b[1;33m[\u001b[0m\u001b[1;34m'bitcoin'\u001b[0m\u001b[1;33m]\u001b[0m\u001b[1;33m)\u001b[0m\u001b[1;33m\u001b[0m\u001b[1;33m\u001b[0m\u001b[0m\n\u001b[0m\u001b[0;32m      4\u001b[0m \u001b[0mscraper\u001b[0m\u001b[1;33m.\u001b[0m\u001b[0mcompile_csv\u001b[0m\u001b[1;33m(\u001b[0m\u001b[1;33m)\u001b[0m\u001b[1;33m\u001b[0m\u001b[1;33m\u001b[0m\u001b[0m\n",
      "\u001b[1;31mNameError\u001b[0m: name 'Scrape_Coin' is not defined"
     ]
    }
   ],
   "source": [
    "# test run\n",
    "# start_date = enter date in yyyymmdd format else\n",
    "# end_date = enter date in yyymmdd format else current date will be used\n",
    "scraper = Scrape_Coin(coins=['bitcoin'])\n",
    "scraper.compile_csv()"
   ]
  },
  {
   "cell_type": "code",
   "execution_count": null,
   "metadata": {},
   "outputs": [],
   "source": []
  }
 ],
 "metadata": {
  "kernelspec": {
   "display_name": "Python 3",
   "language": "python",
   "name": "python3"
  },
  "language_info": {
   "codemirror_mode": {
    "name": "ipython",
    "version": 3
   },
   "file_extension": ".py",
   "mimetype": "text/x-python",
   "name": "python",
   "nbconvert_exporter": "python",
   "pygments_lexer": "ipython3",
   "version": "3.6.7"
  }
 },
 "nbformat": 4,
 "nbformat_minor": 2
}
